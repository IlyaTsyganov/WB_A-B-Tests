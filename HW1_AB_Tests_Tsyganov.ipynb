{
 "cells": [
  {
   "cell_type": "markdown",
   "id": "9c65be72",
   "metadata": {},
   "source": [
    "## Задача 1\n",
    "\n",
    "Из партии батареек с номинальным напряжением 12 В наугад выбрано семь штук. Согласно показаниям высокоточного вольтметра, фактически выдаваемое ими напряжение составило: 12,9; 11,6; 13,5; 13,9; 12,1; 11,9; 13,0 В соответственно. Можно ли считать, что среднее напряжение действительно равно 12 В?"
   ]
  },
  {
   "cell_type": "markdown",
   "id": "2a38baa0",
   "metadata": {},
   "source": [
    "---"
   ]
  },
  {
   "cell_type": "markdown",
   "id": "4030b76d",
   "metadata": {},
   "source": [
    "Выдвинем гипотезы о среднем:\n",
    "- Основная: среднее напряжение батарейки равно 12 В\n",
    "- Альтернативная: среднее напряжение батарейки НЕ равно 12 В\n",
    "Обозначим матожидание напряжения $\\mu_0 = 12$, а среднее значение выборки $\\mu$\n",
    "$$H_0: \\mu = \\mu_0$$\n",
    "$$H_1: \\mu \\neq \\mu_0$$"
   ]
  },
  {
   "cell_type": "markdown",
   "id": "d468ed1d",
   "metadata": {},
   "source": [
    "В качестве критерия выберем одновыборочный критерий Стьюдента, выберем уровень значимости $\\alpha = 0.05$."
   ]
  },
  {
   "cell_type": "code",
   "execution_count": 6,
   "id": "92cbff0f",
   "metadata": {},
   "outputs": [],
   "source": [
    "import numpy as np\n",
    "import pandas as pd\n",
    "from scipy import stats"
   ]
  },
  {
   "cell_type": "code",
   "execution_count": 10,
   "id": "1452e479",
   "metadata": {},
   "outputs": [
    {
     "data": {
      "text/plain": [
       "Ttest_1sampResult(statistic=2.1578017974978794, pvalue=0.07430190210562304)"
      ]
     },
     "execution_count": 10,
     "metadata": {},
     "output_type": "execute_result"
    }
   ],
   "source": [
    "mu_0 = 12\n",
    "sample = np.array([12.9, 11.6, 13.5, 13.9, 12.1, 11.9, 13.0])\n",
    "# score, p_value = \n",
    "stats.ttest_1samp(sample, mu_0, alternative='two-sided')"
   ]
  },
  {
   "cell_type": "markdown",
   "id": "8367ee82",
   "metadata": {},
   "source": [
    "На основании имеющихся наблюдений при уровне значимости $\\alpha = 0.05$ мы не можем отклонить основную гипотезу в пользу альтернативной. Таким образом, у нас нет оснований говорить, что среднее напряжение батарей не равно 12 В"
   ]
  },
  {
   "cell_type": "markdown",
   "id": "0b1ba5e0",
   "metadata": {},
   "source": [
    "## Задача 2\n",
    "\n",
    "Есть два различных метода определения процентного содержания жира в мясе. Доля жира для 10 образцов мяса была определена каждым из двух методов. Позволяют ли полученные результаты сделать вывод о том, что один метод даёт в среднем более высокие показания, чем другой?"
   ]
  },
  {
   "cell_type": "markdown",
   "id": "9da932c1",
   "metadata": {},
   "source": [
    "| Образец | 1 | 2 | 3 | 4 | 5 | 6 | 7 | 8 | 9 | 10 |\n",
    "|---------|---|---|---|---|---|---|---|---|---|---|\n",
    "|Метод I|23.1|23.2|26.5|26.6|27.1|48.3|40.5|25.0|38.4|23.5|\n",
    "|Метод II|22.7|23.6|27.1|27.4|27.4|46.8|40.4|24.9|38.1|23.8|"
   ]
  },
  {
   "cell_type": "markdown",
   "id": "00c0dfd5",
   "metadata": {},
   "source": [
    "---"
   ]
  },
  {
   "cell_type": "markdown",
   "id": "1bd30470",
   "metadata": {},
   "source": [
    "Здесь мы работаем с парными наблюдениями (одни и те же образцы), соответственно, нужно определить статистически значимые различия средних для метода I и метода II.</br>\n",
    "В качестве критерия выберем критерий Стьюдента для парных выборок, выберем уровень значимости $\\alpha = 0.05$.</br>\n",
    "\n",
    "Выдвинем гипотезы о среднем для парных выборок:\n",
    "- Основная: среднее содержание жира, определенное обоими методами,  одинаково\n",
    "- Альтернативная: среднее содержание жира, определенное обоими методами,  НЕ одинаково(то есть, один из методов в среднем даёт более высокие показания)\n",
    "\n",
    "Обозначим средневыборочные значения для метода I как $\\mu_x$, а для метода II как $\\mu_y$\n",
    "$$H_0: \\mu_x = \\mu_y$$\n",
    "$$H_1: \\mu_x \\neq \\mu_y$$"
   ]
  },
  {
   "cell_type": "code",
   "execution_count": 13,
   "id": "e9ba1022",
   "metadata": {
    "scrolled": true
   },
   "outputs": [
    {
     "data": {
      "text/plain": [
       "Ttest_1sampResult(statistic=1.7154884978678027e-15, pvalue=0.9999999999999987)"
      ]
     },
     "execution_count": 13,
     "metadata": {},
     "output_type": "execute_result"
    }
   ],
   "source": [
    "method1 = np.array([23.1, 23.2, 26.5, 26.6, 27.1, 48.3, 40.5, 25.0, 38.4, 23.5])\n",
    "method2 = np.array([22.7, 23.6, 27.1, 27.4, 27.4, 46.8, 40.4, 24.9, 38.1, 23.8])\n",
    "\n",
    "diff = method1 - method2\n",
    "stats.ttest_1samp(diff, popmean=0, alternative='two-sided')"
   ]
  },
  {
   "cell_type": "markdown",
   "id": "ae2a1655",
   "metadata": {},
   "source": [
    "На основании имеющихся наблюдений при уровне значимости  𝛼=0.05 мы не можем отклонить основную гипотезу в пользу альтернативной. Следовательно, мы принимаем основную гипотезу о том, что оба метода в среднем дают одинаковые показанияю."
   ]
  },
  {
   "cell_type": "markdown",
   "id": "0f0e5842",
   "metadata": {},
   "source": [
    "## Задача 3\n",
    "\n",
    "Для проверки гипотезы о том, что жители городов имеют в среднем более высокое систолическое артериальное давление, чем жители сельской местности, было проведено обследование 10 горожан и 9 жителей села примерно одного возраста. Получены следующие данные об уровне давления для горожан: 132, 111, 119, 138, 200, 131, 138, 170, 159, 140; для селян: 115, 190, 127, 155, 148, 121, 116, 121, 197. Можно ли считать верной выдвинутую гипотезу на уровне значимости 0,05?"
   ]
  },
  {
   "cell_type": "markdown",
   "id": "61e6cebf",
   "metadata": {},
   "source": [
    "---"
   ]
  },
  {
   "cell_type": "markdown",
   "id": "5c08568c",
   "metadata": {},
   "source": [
    "В качестве критерия выберем критерий Стьюдента для двух независимых выборок, выберем уровень значимости $\\alpha = 0.05$.</br>\n",
    "\n",
    "Выдвинем гипотезы о среднем для парных выборок:\n",
    "- Основная: жители городов и жители сельской местности имеют в среднем имеют одинаковое систолическое артериальное давление\n",
    "- Альтернативная: жители городов имеют в среднем более высокое систолическое артериальное давление, чем жители сельской местности\n",
    "\n",
    "Обозначим средневыборочные значения для жителей городов как $\\mu_x$, а для жителей сельской местности как $\\mu_y$\n",
    "$$H_0: \\mu_x = \\mu_y$$\n",
    "$$H_1: \\mu_x > \\mu_y$$"
   ]
  },
  {
   "cell_type": "code",
   "execution_count": 15,
   "id": "3b7d3465",
   "metadata": {},
   "outputs": [],
   "source": [
    "city = np.array([132, 111, 119, 138, 200, 131, 138, 170, 159, 140])\n",
    "countryside = np.array([115, 190, 127, 155, 148, 121, 116, 121, 197])"
   ]
  },
  {
   "cell_type": "code",
   "execution_count": 20,
   "id": "9fe66274",
   "metadata": {
    "scrolled": true
   },
   "outputs": [
    {
     "data": {
      "text/plain": [
       "Ttest_indResult(statistic=0.03479498734072727, pvalue=0.4863422498708747)"
      ]
     },
     "execution_count": 20,
     "metadata": {},
     "output_type": "execute_result"
    }
   ],
   "source": [
    "stats.ttest_ind(x, y, alternative='greater', equal_var=False)"
   ]
  },
  {
   "cell_type": "markdown",
   "id": "dfe6955f",
   "metadata": {},
   "source": [
    "На основании имеющихся наблюдений при уровне значимости 𝛼=0.05 мы не можем отклонить основную гипотезу о равенстве средних в пользу альтернативной. Следовательно, мы принимаем основную гипотезу о том, что жители городов и сельской местности в среднем имеют одинаковое систолическое артериальное давление."
   ]
  },
  {
   "cell_type": "markdown",
   "id": "d1c7b30c",
   "metadata": {},
   "source": [
    "## Задача 4\n",
    "\n",
    "Известно, что 52% новорождённых детей — мальчики, а 48% — девочки. В случайной выборке из 5 000 человек в возрасте от 30 до 60 лет мужчин оказалось 2 500. Можно ли на уровне значимости 0,05 считать, основываясь на этих данных, что смертность среди мужчин и женщин одинакова?"
   ]
  },
  {
   "cell_type": "markdown",
   "id": "1a66fb41",
   "metadata": {},
   "source": [
    "---"
   ]
  },
  {
   "cell_type": "markdown",
   "id": "25ff40e3",
   "metadata": {},
   "source": [
    "Основываясь на полученных данных, нельзя ничего предположить или проверить гипотезу о смертности среди мужчин и женщин: процентное соотношение новорожденных детей не даёт нам никакой полезной информации.\"В случайной выборке из 5 000 человек в возрасте от 30 до 60 лет мужчин оказалось 2 500\" - эта информация так же не даёт никакого представления о смертности людей."
   ]
  },
  {
   "cell_type": "markdown",
   "id": "9b506f32",
   "metadata": {},
   "source": [
    "## Задача 5\n",
    "\n",
    "В первом эксперименте для сравнения двух средних X1=17, X2=16 применялся t-критерий Стьюдента, и эти различия оказались значимы (p = 0, 001). \n",
    "\n",
    "Во втором исследовании, также при помощи t - критерия, сравнивались два средних X1=17, X2=36, и эти различия не значимы при p = 0,8. В чем может быть причина таких результатов, при условии, что нулевая и альтернативная гипотезы в обоих случаях одинаковы?"
   ]
  },
  {
   "cell_type": "markdown",
   "id": "fa345dbf",
   "metadata": {},
   "source": [
    "---"
   ]
  },
  {
   "cell_type": "markdown",
   "id": "128ea7fc",
   "metadata": {},
   "source": [
    "При условии фиксированного уровня значимости, причины таких результатов могут быть связаны со множеством факторов, таких как размер выборок и выборочная дисперсия - это одни из явных причин, которые можно наблюдать, взглянув на формулу статистики критерия Стьюдента для независимых выборок:"
   ]
  },
  {
   "attachments": {
    "image.png": {
     "image/png": "[encoded data removed]"
    }
   },
   "cell_type": "markdown",
   "id": "9ea6b74c",
   "metadata": {},
   "source": [
    "![image.png](attachment:image.png)"
   ]
  },
  {
   "cell_type": "markdown",
   "id": "01f16102",
   "metadata": {},
   "source": [
    "Если данные в выборках имеют различные распределения или характеристики (например, сильное смещение или наличие выбросов), это также может повлиять на результаты теста."
   ]
  }
 ],
 "metadata": {
  "kernelspec": {
   "display_name": "Python 3 (ipykernel)",
   "language": "python",
   "name": "python3"
  },
  "language_info": {
   "codemirror_mode": {
    "name": "ipython",
    "version": 3
   },
   "file_extension": ".py",
   "mimetype": "text/x-python",
   "name": "python",
   "nbconvert_exporter": "python",
   "pygments_lexer": "ipython3",
   "version": "3.9.13"
  }
 },
 "nbformat": 4,
 "nbformat_minor": 5
}
